{
 "cells": [
  {
   "cell_type": "markdown",
   "id": "d9eae93a",
   "metadata": {},
   "source": [
    "## Simple if"
   ]
  },
  {
   "cell_type": "code",
   "execution_count": 2,
   "id": "f4cec759",
   "metadata": {},
   "outputs": [
    {
     "name": "stdout",
     "output_type": "stream",
     "text": [
      "enter age :14\n",
      "Not elgible for vote\n"
     ]
    }
   ],
   "source": [
    "a=int(input(\"enter age :\"))\n",
    "if a>=18:\n",
    "    print(\"can vote\")\n",
    "else:\n",
    "    print(\"Not elgible for vote\")"
   ]
  },
  {
   "cell_type": "markdown",
   "id": "e674cd1f",
   "metadata": {},
   "source": [
    "## if-else statement"
   ]
  },
  {
   "cell_type": "markdown",
   "id": "a6f2071a",
   "metadata": {},
   "source": [
    "### 1. even and odd no. checker"
   ]
  },
  {
   "cell_type": "code",
   "execution_count": 3,
   "id": "636256d5",
   "metadata": {},
   "outputs": [
    {
     "name": "stdout",
     "output_type": "stream",
     "text": [
      "Enter a number: 4\n",
      "4 is an even number.\n"
     ]
    }
   ],
   "source": [
    "num = int(input(\"Enter a number: \"))\n",
    "\n",
    "if num % 2 == 0:\n",
    "    print(num,\"is an even number.\")\n",
    "else:\n",
    "    print(num,\" is an odd number.\")\n"
   ]
  },
  {
   "cell_type": "markdown",
   "id": "034c2359",
   "metadata": {},
   "source": [
    "### 2.check age for voting"
   ]
  },
  {
   "cell_type": "code",
   "execution_count": 5,
   "id": "21397ba8",
   "metadata": {},
   "outputs": [
    {
     "name": "stdout",
     "output_type": "stream",
     "text": [
      "Enter age: 26\n",
      "you can vote\n"
     ]
    }
   ],
   "source": [
    "a=int(input(\"Enter age: \"))\n",
    "if a>=18:\n",
    "    print(\"you can vote\")\n",
    "else:\n",
    "    print(\"You are not eligible\")\n"
   ]
  },
  {
   "cell_type": "markdown",
   "id": "4edfd3ac",
   "metadata": {},
   "source": [
    "### 3.larger of two no."
   ]
  },
  {
   "cell_type": "code",
   "execution_count": 6,
   "id": "47e93659",
   "metadata": {},
   "outputs": [
    {
     "name": "stdout",
     "output_type": "stream",
     "text": [
      "Enter the first number: 23\n",
      "Enter the second number: 12\n",
      "The larger number is: 23.0\n"
     ]
    }
   ],
   "source": [
    "num1 = float(input(\"Enter the first number: \"))\n",
    "num2 = float(input(\"Enter the second number: \"))\n",
    "\n",
    "if num1 > num2:\n",
    "    print(\"The larger number is:\", num1)\n",
    "else:\n",
    "    print(\"The larger number is:\", num2)\n"
   ]
  },
  {
   "cell_type": "markdown",
   "id": "ca8d38c0",
   "metadata": {},
   "source": [
    "### 4.smaller of two no."
   ]
  },
  {
   "cell_type": "code",
   "execution_count": 8,
   "id": "80e5eda7",
   "metadata": {},
   "outputs": [
    {
     "name": "stdout",
     "output_type": "stream",
     "text": [
      "Enter the first number: 45\n",
      "Enter the second number: 56\n",
      "The smaller number is: 45.0\n"
     ]
    }
   ],
   "source": [
    "num1 = float(input(\"Enter the first number: \"))\n",
    "num2 = float(input(\"Enter the second number: \"))\n",
    "\n",
    "if num1 < num2:\n",
    "    print(\"The smaller number is:\", num1)\n",
    "else:\n",
    "    print(\"The smaller number is:\", num2)\n"
   ]
  },
  {
   "cell_type": "markdown",
   "id": "290ce7ba",
   "metadata": {},
   "source": [
    "### 5. Write program to find minimum of three no."
   ]
  },
  {
   "cell_type": "code",
   "execution_count": 12,
   "id": "c1bbe0af",
   "metadata": {},
   "outputs": [
    {
     "name": "stdout",
     "output_type": "stream",
     "text": [
      "Enter the first number: 23\n",
      "Enter the second number: 13\n",
      "Enter the first number:43\n",
      "is minimum: 13.0\n"
     ]
    }
   ],
   "source": [
    "num1 = float(input(\"Enter the first number: \"))\n",
    "num2 = float(input(\"Enter the second number: \"))\n",
    "num3=float(input(\"Enter the first number:\"))\n",
    "if num1<num2:\n",
    "       print(\"is minimum:\", num1)\n",
    "elif num2<num3:\n",
    "        print(\"is minimum:\", num2)\n",
    "else:\n",
    "            print(\"is minimum:\", num3)"
   ]
  },
  {
   "cell_type": "markdown",
   "id": "6ff43870",
   "metadata": {},
   "source": [
    "### 6.pass or fail"
   ]
  },
  {
   "cell_type": "code",
   "execution_count": 13,
   "id": "99d33aa1",
   "metadata": {},
   "outputs": [
    {
     "name": "stdout",
     "output_type": "stream",
     "text": [
      "Enter the student's score: 56\n",
      "Pass\n"
     ]
    }
   ],
   "source": [
    "score = float(input(\"Enter the student's score: \"))\n",
    "\n",
    "if score >= 50:\n",
    "    print(\"Pass\")\n",
    "else:\n",
    "    print(\"Fail\")"
   ]
  },
  {
   "cell_type": "markdown",
   "id": "b17c8645",
   "metadata": {},
   "source": [
    "### 7. Leap year checker"
   ]
  },
  {
   "cell_type": "code",
   "execution_count": 14,
   "id": "d70714b9",
   "metadata": {},
   "outputs": [
    {
     "name": "stdout",
     "output_type": "stream",
     "text": [
      "Enter a year: 2023\n",
      "Not a Leap Year\n"
     ]
    }
   ],
   "source": [
    "year = int(input(\"Enter a year: \"))\n",
    "\n",
    "if (year % 4 == 0 and year % 100 != 0) or (year % 400 == 0):\n",
    "    print(\"Leap Year\")\n",
    "else:\n",
    "    print(\"Not a Leap Year\")\n"
   ]
  },
  {
   "cell_type": "code",
   "execution_count": null,
   "id": "98e0a87f",
   "metadata": {},
   "outputs": [],
   "source": []
  }
 ],
 "metadata": {
  "kernelspec": {
   "display_name": "Python 3 (ipykernel)",
   "language": "python",
   "name": "python3"
  },
  "language_info": {
   "codemirror_mode": {
    "name": "ipython",
    "version": 3
   },
   "file_extension": ".py",
   "mimetype": "text/x-python",
   "name": "python",
   "nbconvert_exporter": "python",
   "pygments_lexer": "ipython3",
   "version": "3.11.4"
  }
 },
 "nbformat": 4,
 "nbformat_minor": 5
}
