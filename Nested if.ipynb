{
 "cells": [
  {
   "cell_type": "markdown",
   "id": "2de33183",
   "metadata": {},
   "source": [
    "### code to check voting eligibility with id verification"
   ]
  },
  {
   "cell_type": "code",
   "execution_count": 3,
   "id": "68607ae8",
   "metadata": {},
   "outputs": [
    {
     "name": "stdout",
     "output_type": "stream",
     "text": [
      "Enter your age: 20\n",
      "Do you have a valid ID? (yes/no): no\n",
      "Please bring a valid ID to vote.\n"
     ]
    }
   ],
   "source": [
    "age = int(input(\"Enter your age: \"))\n",
    "has_id = input(\"Do you have a valid ID? (yes/no): \").lower()\n",
    "\n",
    "if age >= 18:\n",
    "    if has_id == \"yes\":\n",
    "        print(\"You are eligible to vote.\")\n",
    "    else:\n",
    "        print(\"Please bring a valid ID to vote.\")\n",
    "else:\n",
    "    print(\"You are not eligible to vote.\")"
   ]
  },
  {
   "cell_type": "code",
   "execution_count": 5,
   "id": "59daf571",
   "metadata": {},
   "outputs": [
    {
     "name": "stdout",
     "output_type": "stream",
     "text": [
      "Enter your age: 19\n",
      "Do you have a valid ID? (yes/no): yes\n",
      "You are eligible to vote.\n"
     ]
    }
   ],
   "source": [
    "age = int(input(\"Enter your age: \"))\n",
    "has_id = input(\"Do you have a valid ID? (yes/no): \").lower()\n",
    "\n",
    "if age >= 18 and has_id == \"yes\": \n",
    "    print(\"You are eligible to vote.\")\n",
    "elif age >= 18 and has_id == \"no\":\n",
    "    print(\"Please bring a valid ID to vote.\")\n",
    "else:\n",
    "    print(\"You are not eligible to vote.\")"
   ]
  },
  {
   "cell_type": "markdown",
   "id": "ab534ca5",
   "metadata": {},
   "source": [
    "### code to determine ticket pricing based on age and prize"
   ]
  },
  {
   "cell_type": "code",
   "execution_count": 7,
   "id": "a0fe132e",
   "metadata": {},
   "outputs": [
    {
     "name": "stdout",
     "output_type": "stream",
     "text": [
      "Enter your age: 15\n",
      "Enter ticket type (adult/child): child\n",
      "Ticket price: 5\n"
     ]
    }
   ],
   "source": [
    "age = int(input(\"Enter your age: \"))\n",
    "ticket_type = input(\"Enter ticket type (adult/child): \").upper()\n",
    "\n",
    "if ticket_type == \"ADULT\":\n",
    "    if age >= 18:\n",
    "        price = 10\n",
    "    else:\n",
    "        price = 7\n",
    "else:\n",
    "    if age <= 12:\n",
    "        price = 2\n",
    "    else:\n",
    "        price = 5\n",
    "\n",
    "print(\"Ticket price:\", price)"
   ]
  },
  {
   "cell_type": "markdown",
   "id": "2bebec98",
   "metadata": {},
   "source": [
    "### code to determine ticket pricing based on age and prize\n"
   ]
  },
  {
   "cell_type": "code",
   "execution_count": 12,
   "id": "61a84310",
   "metadata": {},
   "outputs": [
    {
     "name": "stdout",
     "output_type": "stream",
     "text": [
      "Enter gender type (male/female): male\n",
      "50\n"
     ]
    }
   ],
   "source": [
    "#age = int(input(\"Enter your age: \"))\n",
    "gender_type = input(\"Enter gender type (male/female): \").lower()\n",
    "ticket=50\n",
    "if gender_type==\"female\":\n",
    "    \n",
    "    ticket=ticket/2\n",
    "    \n",
    "    print(ticket)\n",
    "else:\n",
    "     print(ticket)"
   ]
  },
  {
   "cell_type": "code",
   "execution_count": 11,
   "id": "5ee830e4",
   "metadata": {},
   "outputs": [
    {
     "name": "stdout",
     "output_type": "stream",
     "text": [
      "Enter gender type(male/female):male\n",
      "Enter city:chandrapur\n",
      "male full ticket 150\n"
     ]
    }
   ],
   "source": [
    "gender_type=input(\"Enter gender type(male/female):\").lower()\n",
    "city= input(\"Enter city:\")\n",
    "chandrapur=150\n",
    "nagpur=200\n",
    "if city==\"chandrapur\":\n",
    "    if gender_type==\"female\":\n",
    "        ticket=chandrapur/2\n",
    "        print(\"female-half ticket\",ticket)\n",
    "    else:\n",
    "        print(\"male full ticket\",chandrapur)\n",
    "else:\n",
    "    pass\n",
    "if city==\"c\":\n",
    "    if gender_type==\"female\":\n",
    "        ticket=chandrapur/2\n",
    "        print(\"female-half ticket\",ticket)\n",
    "    else:\n",
    "        print(\"male full ticket\",chandrapur)\n",
    "else:\n",
    "    pass\n",
    "            "
   ]
  },
  {
   "cell_type": "code",
   "execution_count": null,
   "id": "930b16e0",
   "metadata": {},
   "outputs": [],
   "source": []
  }
 ],
 "metadata": {
  "kernelspec": {
   "display_name": "Python 3 (ipykernel)",
   "language": "python",
   "name": "python3"
  },
  "language_info": {
   "codemirror_mode": {
    "name": "ipython",
    "version": 3
   },
   "file_extension": ".py",
   "mimetype": "text/x-python",
   "name": "python",
   "nbconvert_exporter": "python",
   "pygments_lexer": "ipython3",
   "version": "3.11.4"
  }
 },
 "nbformat": 4,
 "nbformat_minor": 5
}
