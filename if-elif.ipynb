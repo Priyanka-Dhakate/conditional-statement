{
 "cells": [
  {
   "cell_type": "markdown",
   "id": "71964b3d",
   "metadata": {},
   "source": [
    "## if-elif"
   ]
  },
  {
   "cell_type": "markdown",
   "id": "f027497b",
   "metadata": {},
   "source": [
    "### 1. Simple calculator"
   ]
  },
  {
   "cell_type": "code",
   "execution_count": 2,
   "id": "ff5d9ec8",
   "metadata": {},
   "outputs": [
    {
     "name": "stdout",
     "output_type": "stream",
     "text": [
      "Enter the first number: 23\n",
      "Enter an operator (+, -, *, /): -\n",
      "Enter the second number: 21\n",
      "Substraction of 23 and 21 is: 2\n"
     ]
    }
   ],
   "source": [
    "num1 = int(input(\"Enter the first number: \"))\n",
    "operator = input(\"Enter an operator (+, -, *, /): \")\n",
    "num2 = int(input(\"Enter the second number: \"))\n",
    "\n",
    "if operator == \"+\":\n",
    "    result = num1 + num2\n",
    "    print(\"Addition of\",num1, \"and\", num2, \"is:\",result)\n",
    "elif operator == \"-\":\n",
    "    result = num1 - num2\n",
    "    print(\"Substraction of\",num1 ,\"and\", num2, \"is:\",result)\n",
    "elif operator == \"*\":\n",
    "    result = num1 * num2\n",
    "    print(\"Multiplication of\",num1, \"and\", num2, \"is:\",result)\n",
    "elif operator == \"/\":\n",
    "    result = num1 / num2\n",
    "    print(\"division of\",num1,\"and\", num2, \"is:\",result)\n",
    "else:\n",
    "    print(\"Invalid operator\")\n",
    "    \n",
    "\n"
   ]
  },
  {
   "cell_type": "markdown",
   "id": "36f286df",
   "metadata": {},
   "source": [
    "### 2. Student Grade checker"
   ]
  },
  {
   "cell_type": "code",
   "execution_count": 3,
   "id": "d8b0d134",
   "metadata": {},
   "outputs": [
    {
     "name": "stdout",
     "output_type": "stream",
     "text": [
      "Enter the percentage: 65\n",
      "The student's grade is: D\n"
     ]
    }
   ],
   "source": [
    "percentage = float(input(\"Enter the percentage: \"))\n",
    "\n",
    "if percentage >= 90:\n",
    "    grade = 'A'\n",
    "elif percentage >= 80:\n",
    "    grade = 'B'\n",
    "elif percentage >= 70:\n",
    "    grade = 'C'\n",
    "elif percentage >= 60:\n",
    "    grade = 'D'\n",
    "else:\n",
    "    grade = 'F'\n",
    "\n",
    "print(f\"The student's grade is: {grade}\")\n"
   ]
  },
  {
   "cell_type": "markdown",
   "id": "eebfa3e9",
   "metadata": {},
   "source": [
    "### Positive and negative checker"
   ]
  },
  {
   "cell_type": "code",
   "execution_count": 4,
   "id": "cdc29780",
   "metadata": {},
   "outputs": [
    {
     "name": "stdout",
     "output_type": "stream",
     "text": [
      "Enter the number-5\n",
      "the no. is negative\n"
     ]
    }
   ],
   "source": [
    "a=int(input(\"Enter the number\"))\n",
    "if a>0:\n",
    "    print(\"the no. is positive\")\n",
    "elif a<0:\n",
    "        print(\"the no. is negative\")\n",
    "else:\n",
    "    print(\"The no. is zero\")"
   ]
  },
  {
   "cell_type": "markdown",
   "id": "2c7b9534",
   "metadata": {},
   "source": [
    "### 4. Mark checker"
   ]
  },
  {
   "cell_type": "code",
   "execution_count": 5,
   "id": "1f5747bd",
   "metadata": {},
   "outputs": [
    {
     "name": "stdout",
     "output_type": "stream",
     "text": [
      "Enter the marks:45\n",
      "student got c grade\n"
     ]
    }
   ],
   "source": [
    "marks=int(input(\"Enter the marks:\"))\n",
    "\n",
    "if 90<=marks<=100:\n",
    "    print(\"Student got A+ grade\")\n",
    "elif 80<=marks<90:\n",
    "    print(\"Student got A grade\")\n",
    "elif 70<=marks<80:\n",
    "    print(\"student got B+ grade\")\n",
    "elif 60<=marks<70:\n",
    "    print(\"student got  B grade\")\n",
    "elif 50<=marks<60:\n",
    "    print(\"student got C+ grade\")\n",
    "elif 40<=marks<50:\n",
    "    print(\"student got c grade\")\n",
    "else:\n",
    "    print(\"student is fail\")"
   ]
  },
  {
   "cell_type": "markdown",
   "id": "6601190f",
   "metadata": {},
   "source": [
    "### 5. code to classify temperature ranges"
   ]
  },
  {
   "cell_type": "code",
   "execution_count": 6,
   "id": "547782a2",
   "metadata": {},
   "outputs": [
    {
     "name": "stdout",
     "output_type": "stream",
     "text": [
      "Enter the temperature in Celsius: -7\n",
      "The temperature is classified as: Freezing\n"
     ]
    }
   ],
   "source": [
    "temperature = float(input(\"Enter the temperature in Celsius: \"))\n",
    "\n",
    "if temperature < 0:\n",
    "    classification = \"Freezing\"\n",
    "elif 0 <= temperature < 10:\n",
    "    classification = \"Cold\"\n",
    "elif 10 <= temperature < 20:\n",
    "    classification = \"Cool\"\n",
    "elif 20 <= temperature < 30:\n",
    "    classification = \"Warm\"\n",
    "else:\n",
    "    classification = \"Hot\"\n",
    "\n",
    "print(\"The temperature is classified as:\", classification)"
   ]
  },
  {
   "cell_type": "code",
   "execution_count": 2,
   "id": "598b5776",
   "metadata": {},
   "outputs": [
    {
     "name": "stdout",
     "output_type": "stream",
     "text": [
      "enter height26\n",
      "enter weight34\n",
      "BMI is: 0.05029585798816568\n",
      "overweight\n"
     ]
    }
   ],
   "source": [
    "#assignment que\n",
    "h=int(input(\"enter height\"))\n",
    "w=int(input(\"enter weight\"))\n",
    "BMI=w/(h**2)\n",
    "if 24>BMI>19:\n",
    "    print(\"BMI is:\", BMI)\n",
    "    print(\"underweight\")\n",
    "elif 29>BMI>25:\n",
    "    print(\"BMI is:\", BMI)\n",
    "    print(\"normal weight\")\n",
    "else :\n",
    "    print(\"BMI is:\",BMI)\n",
    "    print(\"overweight\")"
   ]
  },
  {
   "cell_type": "code",
   "execution_count": null,
   "id": "46237ad6",
   "metadata": {},
   "outputs": [],
   "source": []
  }
 ],
 "metadata": {
  "kernelspec": {
   "display_name": "Python 3 (ipykernel)",
   "language": "python",
   "name": "python3"
  },
  "language_info": {
   "codemirror_mode": {
    "name": "ipython",
    "version": 3
   },
   "file_extension": ".py",
   "mimetype": "text/x-python",
   "name": "python",
   "nbconvert_exporter": "python",
   "pygments_lexer": "ipython3",
   "version": "3.11.4"
  }
 },
 "nbformat": 4,
 "nbformat_minor": 5
}
