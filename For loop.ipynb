{
 "cells": [
  {
   "cell_type": "code",
   "execution_count": 1,
   "id": "d3f2d3c4",
   "metadata": {},
   "outputs": [
    {
     "name": "stdout",
     "output_type": "stream",
     "text": [
      "IPCS\n",
      "IPCS\n",
      "IPCS\n",
      "IPCS\n",
      "IPCS\n",
      "IPCS\n",
      "IPCS\n",
      "IPCS\n",
      "IPCS\n",
      "IPCS\n"
     ]
    }
   ],
   "source": [
    "#syntax:\n",
    "#for variable in range(limit)\n",
    "for i in range (10):\n",
    "    print(\"IPCS\")"
   ]
  },
  {
   "cell_type": "code",
   "execution_count": 2,
   "id": "f17a0af1",
   "metadata": {},
   "outputs": [
    {
     "name": "stdout",
     "output_type": "stream",
     "text": [
      "Python 3.11.4\n"
     ]
    }
   ],
   "source": [
    "!Python  --version"
   ]
  },
  {
   "cell_type": "code",
   "execution_count": 2,
   "id": "895e86fe",
   "metadata": {},
   "outputs": [
    {
     "name": "stdout",
     "output_type": "stream",
     "text": [
      "0\n",
      "1\n",
      "2\n",
      "3\n",
      "4\n",
      "5\n",
      "6\n",
      "7\n",
      "8\n",
      "9\n",
      "10\n"
     ]
    }
   ],
   "source": [
    "for i in range(0,11):\n",
    "    print(i)"
   ]
  },
  {
   "cell_type": "code",
   "execution_count": 4,
   "id": "da921d36",
   "metadata": {},
   "outputs": [
    {
     "name": "stdout",
     "output_type": "stream",
     "text": [
      "10\n",
      "9\n",
      "8\n",
      "7\n",
      "6\n",
      "5\n",
      "4\n",
      "3\n",
      "2\n",
      "1\n"
     ]
    }
   ],
   "source": [
    "for i in range(10,0,-1):\n",
    "    print(i)"
   ]
  },
  {
   "cell_type": "code",
   "execution_count": 4,
   "id": "8f08f117",
   "metadata": {},
   "outputs": [
    {
     "name": "stdout",
     "output_type": "stream",
     "text": [
      "50\n",
      "45\n",
      "40\n",
      "35\n",
      "30\n",
      "25\n",
      "20\n",
      "15\n",
      "10\n"
     ]
    }
   ],
   "source": [
    " for i in range(50,5,-5):\n",
    "        print(i)"
   ]
  },
  {
   "cell_type": "code",
   "execution_count": 5,
   "id": "77cb658a",
   "metadata": {},
   "outputs": [
    {
     "name": "stdout",
     "output_type": "stream",
     "text": [
      "1\n",
      "4\n",
      "9\n",
      "16\n"
     ]
    }
   ],
   "source": [
    "l=[1,2,3,4]\n",
    "for element in l:\n",
    "    print(element**2)"
   ]
  },
  {
   "cell_type": "markdown",
   "id": "7e8d54ec",
   "metadata": {},
   "source": [
    "### Sum of number"
   ]
  },
  {
   "cell_type": "code",
   "execution_count": 7,
   "id": "1ecc5c2d",
   "metadata": {},
   "outputs": [
    {
     "name": "stdout",
     "output_type": "stream",
     "text": [
      "Enter the number:-10\n",
      "sum: 55\n"
     ]
    }
   ],
   "source": [
    "total=0\n",
    "n=int(input(\"Enter the number:-\"))\n",
    "for i in range(1, n+1):\n",
    "    total +=i     #total=total+i\n",
    "print(\"sum:\", total)"
   ]
  },
  {
   "cell_type": "markdown",
   "id": "abfbd638",
   "metadata": {},
   "source": [
    "### factorial"
   ]
  },
  {
   "cell_type": "code",
   "execution_count": 8,
   "id": "63d6e490",
   "metadata": {},
   "outputs": [
    {
     "name": "stdout",
     "output_type": "stream",
     "text": [
      "Enter the number:-5\n",
      "factorial: 120\n"
     ]
    }
   ],
   "source": [
    "factorial=1\n",
    "n=int(input(\"Enter the number:-\"))\n",
    "for i in range(1, n+1):\n",
    "    factorial=factorial*i\n",
    "print(\"factorial:\", factorial)"
   ]
  },
  {
   "cell_type": "markdown",
   "id": "bdc42004",
   "metadata": {},
   "source": [
    "### Table of number"
   ]
  },
  {
   "cell_type": "code",
   "execution_count": 13,
   "id": "fac0a382",
   "metadata": {},
   "outputs": [
    {
     "name": "stdout",
     "output_type": "stream",
     "text": [
      "Enter the number:-5\n",
      "5 x 1 = 5\n",
      "5 x 2 = 10\n",
      "5 x 3 = 15\n",
      "5 x 4 = 20\n",
      "5 x 5 = 25\n",
      "5 x 6 = 30\n",
      "5 x 7 = 35\n",
      "5 x 8 = 40\n",
      "5 x 9 = 45\n",
      "5 x 10 = 50\n"
     ]
    }
   ],
   "source": [
    "n=int(input(\"Enter the number:-\"))\n",
    "for i in range(1, 11):\n",
    "    #print(f\"{n} X {i}={n*i}\")\n",
    "    print(n, \"x\", i, \"=\", n * i)\n",
    "    "
   ]
  },
  {
   "cell_type": "markdown",
   "id": "e056aa37",
   "metadata": {},
   "source": [
    "### count of variable"
   ]
  },
  {
   "cell_type": "code",
   "execution_count": 20,
   "id": "23773e56",
   "metadata": {},
   "outputs": [
    {
     "name": "stdout",
     "output_type": "stream",
     "text": [
      "Enter a string:-data\n",
      "Enter a character to count:-a\n",
      "occuraences of a: 2\n"
     ]
    }
   ],
   "source": [
    "text=str(input(\"Enter a string:-\"))\n",
    "target_char=input(\"Enter a character to count:-\")\n",
    "count=0\n",
    "for c in text:\n",
    "    if c == target_char:\n",
    "        count +=1    #count=count+1\n",
    "print(f\"occuraences of {target_char}: {count}\")"
   ]
  },
  {
   "cell_type": "markdown",
   "id": "899e4569",
   "metadata": {},
   "source": [
    "##### Prime numbers"
   ]
  },
  {
   "cell_type": "code",
   "execution_count": 1,
   "id": "6baaf326",
   "metadata": {},
   "outputs": [
    {
     "name": "stdout",
     "output_type": "stream",
     "text": [
      "not prime\n"
     ]
    }
   ],
   "source": [
    "num=15\n",
    "for i in range(2,num):\n",
    "    if num%i==0:\n",
    "        print(\"not prime\")\n",
    "        break\n",
    "else:\n",
    "        print(\"prime\")"
   ]
  },
  {
   "cell_type": "code",
   "execution_count": 2,
   "id": "63a21a94",
   "metadata": {},
   "outputs": [
    {
     "name": "stdout",
     "output_type": "stream",
     "text": [
      "[1, 2, 3, 5, 7, 11, 13]\n"
     ]
    }
   ],
   "source": [
    "p=[]\n",
    "for num in range(1,17):\n",
    "    is_prime=True\n",
    "    for i in range(2,num):\n",
    "        if num%i==0:\n",
    "            is_prime=False\n",
    "            break\n",
    "    if is_prime:\n",
    "        p.append(num)\n",
    "print(p)"
   ]
  },
  {
   "cell_type": "markdown",
   "id": "ceb681ea",
   "metadata": {},
   "source": [
    "# Printing Patterns"
   ]
  },
  {
   "cell_type": "markdown",
   "id": "e223faf8",
   "metadata": {},
   "source": [
    "#### We require 5 things\n",
    "    1. Input:How many Rows\n",
    "    2. for loop:1 for rows and 1 for columns\n",
    "    3. range(start,stop)\n",
    "    4. print()\n",
    "    5. end=\" \""
   ]
  },
  {
   "cell_type": "markdown",
   "id": "9ff10859",
   "metadata": {},
   "source": [
    "## use of end=\" \""
   ]
  },
  {
   "cell_type": "code",
   "execution_count": 3,
   "id": "567bb7c9",
   "metadata": {},
   "outputs": [
    {
     "name": "stdout",
     "output_type": "stream",
     "text": [
      "hello\n",
      "hi\n"
     ]
    }
   ],
   "source": [
    "print(\"hello\")\n",
    "print(\"hi\")"
   ]
  },
  {
   "cell_type": "code",
   "execution_count": 4,
   "id": "43b0c575",
   "metadata": {},
   "outputs": [
    {
     "name": "stdout",
     "output_type": "stream",
     "text": [
      "hello hi\n"
     ]
    }
   ],
   "source": [
    "print(\"hello\", end=\" \")\n",
    "print(\"hi\")"
   ]
  },
  {
   "cell_type": "code",
   "execution_count": 6,
   "id": "67eef866",
   "metadata": {},
   "outputs": [
    {
     "name": "stdout",
     "output_type": "stream",
     "text": [
      "*****\n",
      "*****\n",
      "*****\n",
      "*****\n",
      "*****\n"
     ]
    }
   ],
   "source": [
    "size=5\n",
    "for i in range(size):\n",
    "    print(\"*\"*size)"
   ]
  },
  {
   "cell_type": "code",
   "execution_count": 8,
   "id": "b3bc44dd",
   "metadata": {},
   "outputs": [
    {
     "name": "stdout",
     "output_type": "stream",
     "text": [
      "# # # # "
     ]
    }
   ],
   "source": [
    "print(\"#\",end=\" \")\n",
    "print(\"#\",end=\" \")\n",
    "print(\"#\",end=\" \")\n",
    "print(\"#\",end=\" \")"
   ]
  },
  {
   "cell_type": "code",
   "execution_count": 9,
   "id": "5478e204",
   "metadata": {},
   "outputs": [
    {
     "name": "stdout",
     "output_type": "stream",
     "text": [
      "# # # # "
     ]
    }
   ],
   "source": [
    "for i in range(4):\n",
    "    print(\"#\",end=\" \")"
   ]
  },
  {
   "cell_type": "code",
   "execution_count": 1,
   "id": "1f891d23",
   "metadata": {},
   "outputs": [
    {
     "name": "stdout",
     "output_type": "stream",
     "text": [
      "# # # # \n",
      "# # # # \n"
     ]
    }
   ],
   "source": [
    "for i in range(4):\n",
    "    print(\"#\",end=\" \")\n",
    "print()   #new line\n",
    "for i in range(4):\n",
    "    print(\"#\",end=\" \")\n",
    "print()\n",
    "        "
   ]
  },
  {
   "cell_type": "code",
   "execution_count": 2,
   "id": "0064cf06",
   "metadata": {},
   "outputs": [
    {
     "name": "stdout",
     "output_type": "stream",
     "text": [
      "1\n",
      "2\n",
      "3\n",
      "4\n",
      "5\n",
      "6\n",
      "7\n",
      "8\n",
      "9\n"
     ]
    }
   ],
   "source": [
    "i=1\n",
    "while i<10:\n",
    "    print(i)\n",
    "    i=i+1"
   ]
  },
  {
   "cell_type": "code",
   "execution_count": 4,
   "id": "1544a185",
   "metadata": {},
   "outputs": [
    {
     "name": "stdout",
     "output_type": "stream",
     "text": [
      "Enter the bill:-23\n",
      "Enter next bill:-\n",
      "45\n",
      "Enter next bill:-\n",
      "78\n",
      "Enter next bill:-\n",
      "89\n",
      "Enter next bill:-\n",
      "0\n",
      "sum is: 235\n"
     ]
    }
   ],
   "source": [
    "bill=int(input(\"Enter the bill:-\"))\n",
    "sum=bill\n",
    "while bill!=0:\n",
    "    print(\"Enter next bill:-\")\n",
    "    bill=int(input())\n",
    "    sum=sum+bill\n",
    "print(\"sum is:\",sum)\n",
    "    "
   ]
  },
  {
   "cell_type": "code",
   "execution_count": 1,
   "id": "e1a5def6",
   "metadata": {},
   "outputs": [
    {
     "name": "stdout",
     "output_type": "stream",
     "text": [
      "Enter vote\n",
      "a\n",
      "Enter vote\n",
      "m\n",
      "Enter vote\n",
      "q\n",
      "Alex: 1\n",
      "Manu: 1\n"
     ]
    }
   ],
   "source": [
    "vote=\"a\"\n",
    "mcount=0\n",
    "acount=0\n",
    "while vote != \"q\":\n",
    "    print(\"Enter vote\")\n",
    "    vote=input()\n",
    "    if vote==\"a\":\n",
    "        acount=acount+1\n",
    "    elif vote ==\"m\":\n",
    "        mcount=mcount+1\n",
    "print(\"Alex:\",acount)\n",
    "print(\"Manu:\",mcount)        "
   ]
  },
  {
   "cell_type": "code",
   "execution_count": 1,
   "id": "22978b70",
   "metadata": {},
   "outputs": [
    {
     "name": "stdout",
     "output_type": "stream",
     "text": [
      "Enter the distance:-\n",
      "43\n",
      "Enter time\n",
      "7\n",
      "speed is : 6.142857142857143\n",
      "Do u want to continue?\n",
      "n\n"
     ]
    }
   ],
   "source": [
    "ch=\"y\"        #choice=ch\n",
    "while ch!=\"n\":\n",
    "    print(\"Enter the distance:-\")\n",
    "    dis =int(input())\n",
    "    if dis<0:\n",
    "        print(\"Invalid distance\")\n",
    "        continue\n",
    "    print(\"Enter time\")\n",
    "    t=int(input())\n",
    "    s=dis/t\n",
    "    print(\"speed is :\", s)\n",
    "    print(\"Do u want to continue?\")\n",
    "    ch=input()"
   ]
  },
  {
   "cell_type": "markdown",
   "id": "80d96a70",
   "metadata": {},
   "source": [
    "##### "
   ]
  },
  {
   "cell_type": "code",
   "execution_count": null,
   "id": "2c1e5f89",
   "metadata": {},
   "outputs": [],
   "source": []
  },
  {
   "cell_type": "code",
   "execution_count": null,
   "id": "ce2b9f14",
   "metadata": {},
   "outputs": [],
   "source": []
  }
 ],
 "metadata": {
  "kernelspec": {
   "display_name": "Python 3 (ipykernel)",
   "language": "python",
   "name": "python3"
  },
  "language_info": {
   "codemirror_mode": {
    "name": "ipython",
    "version": 3
   },
   "file_extension": ".py",
   "mimetype": "text/x-python",
   "name": "python",
   "nbconvert_exporter": "python",
   "pygments_lexer": "ipython3",
   "version": "3.11.4"
  }
 },
 "nbformat": 4,
 "nbformat_minor": 5
}
